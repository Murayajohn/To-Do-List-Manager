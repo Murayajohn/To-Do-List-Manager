{
 "cells": [
  {
   "cell_type": "markdown",
   "id": "a89f5791-104f-4f4b-82a1-fea05753ab38",
   "metadata": {},
   "source": [
    "# Variable Assignment\n",
    "This is **bold**"
   ]
  },
  {
   "cell_type": "code",
   "execution_count": 1,
   "id": "7d6e2743-abcd-42ed-aa6c-8e9a6278786a",
   "metadata": {},
   "outputs": [],
   "source": [
    "Travel_Month = \"January\""
   ]
  },
  {
   "cell_type": "code",
   "execution_count": 2,
   "id": "0d191d38-0ac8-47b0-94f8-b5f94d95d1d7",
   "metadata": {},
   "outputs": [
    {
     "data": {
      "text/plain": [
       "'January'"
      ]
     },
     "execution_count": 2,
     "metadata": {},
     "output_type": "execute_result"
    }
   ],
   "source": [
    "Travel_Month"
   ]
  },
  {
   "cell_type": "code",
   "execution_count": 3,
   "id": "67d40060-4f76-4f29-90a6-4e2d22944126",
   "metadata": {},
   "outputs": [],
   "source": [
    "Travel_Month = \"December\""
   ]
  },
  {
   "cell_type": "code",
   "execution_count": 4,
   "id": "72ba21e7-874e-4458-89da-49d6c71c8f73",
   "metadata": {},
   "outputs": [
    {
     "data": {
      "text/plain": [
       "'December'"
      ]
     },
     "execution_count": 4,
     "metadata": {},
     "output_type": "execute_result"
    }
   ],
   "source": [
    "Travel_Month"
   ]
  },
  {
   "cell_type": "code",
   "execution_count": 5,
   "id": "993657d8-948c-412d-9ef5-660e3b506abc",
   "metadata": {},
   "outputs": [],
   "source": [
    "number_of_weeks = None"
   ]
  },
  {
   "cell_type": "code",
   "execution_count": 6,
   "id": "bd128875-fc3a-49fc-9372-fcd41afc3c39",
   "metadata": {},
   "outputs": [],
   "source": [
    "number_of_weeks"
   ]
  },
  {
   "cell_type": "code",
   "execution_count": 7,
   "id": "d0fdfd8a-a143-4868-aed5-52c6219b5978",
   "metadata": {},
   "outputs": [],
   "source": [
    "number_of_weeks = 2"
   ]
  },
  {
   "cell_type": "code",
   "execution_count": 8,
   "id": "73b0ff9c-8877-48a1-b713-760bb6602e1d",
   "metadata": {},
   "outputs": [
    {
     "name": "stdout",
     "output_type": "stream",
     "text": [
      "I'll be out of office for 2 weeks December\n"
     ]
    }
   ],
   "source": [
    "print (\"I'll be out of office for \"+ str( number_of_weeks ) + \" weeks \"+ Travel_Month)"
   ]
  },
  {
   "cell_type": "code",
   "execution_count": 9,
   "id": "a2207807-5c64-4752-b589-a578c9811eb7",
   "metadata": {},
   "outputs": [
    {
     "name": "stdout",
     "output_type": "stream",
     "text": [
      " In December we are travelling for 2weeks\n"
     ]
    }
   ],
   "source": [
    "print (\" In \" + Travel_Month + \" we are travelling for \"+ str(number_of_weeks) + \"weeks\")"
   ]
  },
  {
   "cell_type": "code",
   "execution_count": 10,
   "id": "4817dff4-f50c-4772-954b-57e50cdd8f55",
   "metadata": {},
   "outputs": [
    {
     "name": "stdout",
     "output_type": "stream",
     "text": [
      "I'll be out of office for 2 weeks in December\n"
     ]
    }
   ],
   "source": [
    "print (\"I'll be out of office for {weeks} weeks in {Month}\". format (weeks = str(number_of_weeks), Month=Travel_Month))"
   ]
  },
  {
   "cell_type": "code",
   "execution_count": 11,
   "id": "75d0dc56-fe15-4384-940c-ac605ab835d7",
   "metadata": {},
   "outputs": [
    {
     "name": "stdout",
     "output_type": "stream",
     "text": [
      "I'll be out of office for 2 weeks in December\n"
     ]
    }
   ],
   "source": [
    "print(f\"I'll be out of office for {str(number_of_weeks)} weeks in {Travel_Month}\")"
   ]
  },
  {
   "cell_type": "markdown",
   "id": "00878253-60e1-4a6f-8eaf-f15abac06870",
   "metadata": {},
   "source": [
    "# control_flow_lab"
   ]
  },
  {
   "cell_type": "code",
   "execution_count": 12,
   "id": "dabbdd3d-20e5-4ca0-8101-2f593223ad82",
   "metadata": {},
   "outputs": [],
   "source": [
    "number_50 = 50\n",
    "\n",
    "my_number = None\n",
    "\n",
    "if number_50 > 100:\n",
    "\n",
    "   # if number_50 is greater than 100, assign the `my_number` variable to the number 100\n",
    "    my_number=100\n",
    "\n",
    "elif number_50 > 50:\n",
    "\n",
    "   # if number_50 is greater than 50, assign the `my_number` variable to the number 50\n",
    "    my_number=50\n",
    "\n",
    "else:\n",
    "\n",
    "   # else assign the `my_number` variable to 0\n",
    "    my_number=0\n"
   ]
  },
  {
   "cell_type": "code",
   "execution_count": 13,
   "id": "e562f9a9-2c2c-4bdb-9e53-dfb79941c914",
   "metadata": {},
   "outputs": [
    {
     "data": {
      "text/plain": [
       "0"
      ]
     },
     "execution_count": 13,
     "metadata": {},
     "output_type": "execute_result"
    }
   ],
   "source": [
    "my_number"
   ]
  },
  {
   "cell_type": "code",
   "execution_count": 14,
   "id": "0471afa6-3ab3-4640-8cbb-7cccf6098ef2",
   "metadata": {},
   "outputs": [],
   "source": [
    "number_50 = 120\n",
    "\n",
    "my_number = None\n",
    "\n",
    "if number_50 > 100:\n",
    "\n",
    "   # if number_50 is greater than 100, assign the `my_number` variable to the number 100\n",
    "    my_number=100\n",
    "\n",
    "elif number_50 > 50:\n",
    "\n",
    "   # if number_50 is greater than 50, assign the `my_number` variable to the number 50\n",
    "    my_number=50\n",
    "\n",
    "else:\n",
    "\n",
    "   # else assign the `my_number` variable to 0\n",
    "    my_number=0"
   ]
  },
  {
   "cell_type": "code",
   "execution_count": 15,
   "id": "ffc830ff-c287-4294-9908-f557a665a817",
   "metadata": {},
   "outputs": [
    {
     "data": {
      "text/plain": [
       "100"
      ]
     },
     "execution_count": 15,
     "metadata": {},
     "output_type": "execute_result"
    }
   ],
   "source": [
    "my_number"
   ]
  },
  {
   "cell_type": "code",
   "execution_count": 16,
   "id": "c2f0ce9c-8d74-4cf2-a491-0e395305061d",
   "metadata": {},
   "outputs": [],
   "source": [
    "number_50 = 70\n",
    "\n",
    "my_number = None\n",
    "\n",
    "if number_50 > 100:\n",
    "\n",
    "   # if number_50 is greater than 100, assign the `my_number` variable to the number 100\n",
    "    my_number=100\n",
    "\n",
    "elif number_50 > 50:\n",
    "\n",
    "   # if number_50 is greater than 50, assign the `my_number` variable to the number 50\n",
    "    my_number=50\n",
    "\n",
    "else:\n",
    "\n",
    "   # else assign the `my_number` variable to 0\n",
    "    my_number=0"
   ]
  },
  {
   "cell_type": "markdown",
   "id": "4a6e0283-d36f-4a5b-8bc8-35156cc1679c",
   "metadata": {},
   "source": [
    "# Assignment:-Independent Project - To-Do List Manager"
   ]
  },
  {
   "cell_type": "code",
   "execution_count": null,
   "id": "bf12efeb-4107-4551-bc81-a6d17fcce6b7",
   "metadata": {},
   "outputs": [],
   "source": [
    "#Create a simple to-do list manager using Python. The program should allow users to add tasks, mark tasks as completed, list tasks, and remove tasks.\n",
    "\n",
    "# Task list to hold the tasks\n",
    "tasks = []\n",
    "\n",
    "def add_task(task):\n",
    "    tasks.append({'task': task, 'completed': False})\n",
    "    print(f\"Task added: {task}\")\n",
    "\n",
    "def complete_task(idx):\n",
    "    if 0 <= idx < len(tasks):\n",
    "        tasks[idx]['completed'] = True\n",
    "        print(f\"Task marked as completed: {tasks[idx]['task']}\")\n",
    "    else:\n",
    "        print(\"Invalid task index\")\n",
    "\n",
    "def list_tasks():\n",
    "    if tasks:\n",
    "        for i, task in enumerate(tasks):\n",
    "            status = \"Completed\" if task['completed'] else \"Pending\"\n",
    "            print(f\"{i}. {task['task']} - {status}\")\n",
    "    else:\n",
    "        print(\"No tasks available\")\n",
    "\n",
    "def remove_task(idx):\n",
    "    if 0 <= idx < len(tasks):\n",
    "        removed_task = tasks.pop(idx)\n",
    "        print(f\"Task removed: {removed_task['task']}\")\n",
    "    else:\n",
    "        print(\"Invalid task index\")\n",
    "\n",
    "def main():\n",
    "    while True:\n",
    "        command = input(\"Enter a command (add, complete, list, remove, quit): \").strip()\n",
    "        \n",
    "        if command == 'add':\n",
    "            task = input(\"Enter a task: \").strip()\n",
    "            add_task(task)\n",
    "        elif command == 'complete':\n",
    "            idx = int(input(\"Enter the task index to mark as completed: \").strip())\n",
    "            complete_task(idx)\n",
    "        elif command == 'list':\n",
    "            list_tasks()\n",
    "        elif command == 'remove':\n",
    "            idx = int(input(\"Enter the task index to remove: \").strip())\n",
    "            remove_task(idx)\n",
    "        elif command == 'quit':\n",
    "            print(\"Exiting To-Do List Manager.\")\n",
    "            sys.exit()\n",
    "        else:\n",
    "            print(\"Unknown command. Please try again.\")\n",
    "\n",
    "if __name__ == \"__main__\":\n",
    "    main()\n",
    "    "
   ]
  },
  {
   "cell_type": "code",
   "execution_count": null,
   "id": "7f2898d9-c9b8-4096-b6e8-a956294cb095",
   "metadata": {},
   "outputs": [],
   "source": []
  }
 ],
 "metadata": {
  "kernelspec": {
   "display_name": "Python 3 (ipykernel)",
   "language": "python",
   "name": "python3"
  },
  "language_info": {
   "codemirror_mode": {
    "name": "ipython",
    "version": 3
   },
   "file_extension": ".py",
   "mimetype": "text/x-python",
   "name": "python",
   "nbconvert_exporter": "python",
   "pygments_lexer": "ipython3",
   "version": "3.11.7"
  }
 },
 "nbformat": 4,
 "nbformat_minor": 5
}
